{
 "cells": [
  {
   "cell_type": "markdown",
   "metadata": {
    "id": "rmrqfXnVB3sS"
   },
   "source": [
    "# Laboratory 4: Reinforcement learning\n",
    "    \n",
    "In the end of the lab, you should export the notebook to a Python script (``File >> Download as >> Python (.py)``). Make sure that the resulting script includes all code written in the tasks marked as \\\"**Activity n. N**\\\", together with any replies to specific questions posed. Your file should be named `padi-labKK-groupXXX.py`, where `KK` corresponds to the lab number and the `XXX` corresponds to your group number. Similarly, your homework should consist of a single pdf file named `padi-hwKK-groupXXX.pdf`. You should create a zip file with the lab and homework files and submit it in Fenix **at most 30 minutes after your lab is over**.\n",
    "    \n",
    "Make sure to strictly respect the specifications in each activity, in terms of the intended inputs, outputs and naming conventions.\n",
    "    \n"
   ]
  },
  {
   "cell_type": "markdown",
   "metadata": {
    "id": "6JxBjgrSfBLZ"
   },
   "source": [
    "### Golf environment"
   ]
  },
  {
   "cell_type": "markdown",
   "metadata": {
    "id": "Tq2XiAJ9Rz35"
   },
   "source": [
    "We consider a very simple golf simulator with one continuous dimension. The goal is to reach the hole in the minimum amount of plays. We let $x \\in [0,450]$ be the continuous random variable encoding the position of the ball in the golf course. We consider 4 golf courses, which differ in the position of the hole and wind intensity. The maximum length across all golf courses is of 450 meters.\n",
    "\n",
    "There are 6 different actions corresponding to 6 golf clubs:\n",
    "*   Long range (action 0 - more precise, action 1 - less precise)\n",
    "*   Medium range (action 2 - more precise, action 3 - less precise)\n",
    "*   Short range (action 4 - more precise, action 5 - less precise)\n",
    "\n",
    "The function `golf_env_step(env, x, a)` provides a simulator for this game, where `env` is a number (0-3) corresponding to a given golf course, `x` is the current location of the ball, and `a` the action. The function returns the new location of the ball and the cost (0 if it entered the hole, 1 otherwise). When the ball enters the hole, the cost is 0 and the environment resets to its initial configuration where the ball is in position 0 again."
   ]
  },
  {
   "cell_type": "code",
   "execution_count": 1,
   "metadata": {
    "ExecuteTime": {
     "end_time": "2025-04-04T16:42:56.279009Z",
     "start_time": "2025-04-04T16:42:55.595046Z"
    },
    "id": "ExyPtDeC-GZv"
   },
   "outputs": [],
   "source": [
    "import math\n",
    "import numpy as np\n",
    "import matplotlib.pyplot as plt\n",
    "\n",
    "def golf_env_step(env, x, a):\n",
    "\n",
    "    if env == 0:\n",
    "        xgoal = 200\n",
    "        wind = -10\n",
    "    elif env == 1:\n",
    "        xgoal = 200\n",
    "        wind = 10\n",
    "    elif env == 2:\n",
    "        xgoal = 400\n",
    "        wind = -20\n",
    "    elif env == 3:\n",
    "        xgoal = 400\n",
    "        wind = +10\n",
    "\n",
    "    if a == 0:\n",
    "        x = x + np.sign(xgoal-x) * (np.random.normal() * 10 + 100) + wind\n",
    "    elif a == 1:\n",
    "        x = x + np.sign(xgoal-x) * (np.random.normal() * 30 + 150) + wind\n",
    "    elif a == 2:\n",
    "        x = x + np.sign(xgoal-x) * (np.random.normal() * 5 + 50) + wind/2\n",
    "    elif a == 3:\n",
    "        x = x + np.sign(xgoal-x) * (np.random.normal() * 15 + 75) + wind/2\n",
    "    elif a == 4:\n",
    "        x = x + np.sign(xgoal-x) * (np.random.normal() * 1) + min((xgoal-x),10)\n",
    "    elif a == 5:\n",
    "        x = x + np.sign(xgoal-x) * (np.random.normal() * 4 + 2 * min((xgoal-x),20)) + wind/4\n",
    "\n",
    "    x = np.double(x)\n",
    "    if x < 0:\n",
    "        x = 0\n",
    "    elif x > 450:\n",
    "        x = 450\n",
    "\n",
    "    if np.abs(x-xgoal) < 1:\n",
    "        c = 0\n",
    "        x = 0\n",
    "    else:\n",
    "        c = 1\n",
    "\n",
    "    return x, c"
   ]
  },
  {
   "cell_type": "code",
   "execution_count": 2,
   "metadata": {
    "ExecuteTime": {
     "end_time": "2025-04-04T16:42:56.288669Z",
     "start_time": "2025-04-04T16:42:56.283424Z"
    },
    "id": "bRJYoGcCUlMc"
   },
   "outputs": [],
   "source": [
    "ENV = 2 # The golf course to consider."
   ]
  },
  {
   "cell_type": "markdown",
   "metadata": {
    "id": "umIudYEfTM2n"
   },
   "source": [
    "## Activity 1 ##\n",
    "As the state is continuous, we cannot apply directly Q-Learning. One common approach is to discretize the continuous state value into a discrete number. Make a simple function that converts the continuous state $x \\in [0,450]$ into a discrete number corresponding to a state index.\n",
    "\n",
    "Implement the function `state2rep(x)` below, which receives the continuous state $x$ and returns the index corresponding to a discrete state. Let's assume we choose a maximum of 46 discrete states. Take a look into the prints below to understand how the discretization procedure is supposed to work."
   ]
  },
  {
   "cell_type": "code",
   "execution_count": 3,
   "metadata": {
    "ExecuteTime": {
     "end_time": "2025-04-04T16:42:56.822659Z",
     "start_time": "2025-04-04T16:42:56.817211Z"
    },
    "id": "dophQfkfTCqS"
   },
   "outputs": [],
   "source": [
    "def state2rep(x):\n",
    "    return int (x // 10)"
   ]
  },
  {
   "cell_type": "code",
   "execution_count": 4,
   "metadata": {
    "ExecuteTime": {
     "end_time": "2025-04-04T16:42:56.841573Z",
     "start_time": "2025-04-04T16:42:56.834715Z"
    }
   },
   "outputs": [
    {
     "name": "stdout",
     "output_type": "stream",
     "text": [
      "x = 0.0: 0\n",
      "x = 5.0: 0\n",
      "x = 9.9: 0\n",
      "x = 10.0: 1\n",
      "x = 15.0: 1\n",
      "x = 19.9: 1\n",
      "x = 200.0: 20\n",
      "x = 205.0: 20\n",
      "x = 209.9: 20\n",
      "x = 440.0: 44\n",
      "x = 449.9: 44\n",
      "x = 450.0: 45\n"
     ]
    }
   ],
   "source": [
    "print(\"x = 0.0:\", state2rep(0.0))\n",
    "print(\"x = 5.0:\", state2rep(5.0))\n",
    "print(\"x = 9.9:\", state2rep(9.9))\n",
    "print(\"x = 10.0:\", state2rep(10.0))\n",
    "print(\"x = 15.0:\", state2rep(15.0))\n",
    "print(\"x = 19.9:\", state2rep(19.9))\n",
    "print(\"x = 200.0:\", state2rep(200.0))\n",
    "print(\"x = 205.0:\", state2rep(205.0))\n",
    "print(\"x = 209.9:\", state2rep(209.9))\n",
    "print(\"x = 440.0:\", state2rep(440.0))\n",
    "print(\"x = 449.9:\", state2rep(449.9))\n",
    "print(\"x = 450.0:\", state2rep(450.0))"
   ]
  },
  {
   "cell_type": "markdown",
   "metadata": {
    "id": "bEmIL-d3qbwi"
   },
   "source": [
    "The following code\n",
    "\n",
    "\n",
    "\n",
    "```\n",
    "print(\"x = 0.0:\", state2rep(0.0))\n",
    "print(\"x = 5.0:\", state2rep(5.0))\n",
    "print(\"x = 9.9:\", state2rep(9.9))\n",
    "print(\"x = 10.0:\", state2rep(10.0))\n",
    "print(\"x = 15.0:\", state2rep(15.0))\n",
    "print(\"x = 19.9:\", state2rep(19.9))\n",
    "print(\"x = 200.0:\", state2rep(200.0))\n",
    "print(\"x = 205.0:\", state2rep(205.0))\n",
    "print(\"x = 209.9:\", state2rep(209.9))\n",
    "print(\"x = 440.0:\", state2rep(440.0))\n",
    "print(\"x = 449.9:\", state2rep(449.9))\n",
    "print(\"x = 450.0:\", state2rep(450.0))\n",
    "```\n",
    "\n",
    "\n",
    "should give the result\n",
    "\n",
    "\n",
    "```\n",
    "x = 0.0: 0\n",
    "x = 5.0: 0\n",
    "x = 9.9: 0\n",
    "x = 10.0: 1\n",
    "x = 15.0: 1\n",
    "x = 19.9: 1\n",
    "x = 200.0: 20\n",
    "x = 205.0: 20\n",
    "x = 209.9: 20\n",
    "x = 440.0: 44\n",
    "x = 449.9: 44\n",
    "x = 450.0: 45\n",
    "```\n",
    "\n",
    "\n",
    "\n"
   ]
  },
  {
   "cell_type": "markdown",
   "metadata": {
    "id": "-fX8-foxT6A3"
   },
   "source": [
    "## Activity 2 ##\n",
    "\n",
    "Now that we are in a discrete environment, we can apply directly the Q-Learning algorithm. Implement function `Qlearning` below, which lets the agent interact with the environment for `Niter` iterations while following an $\\epsilon$-greedy policy and performing a Q-learning update at each step. The initial state corresponds to $x =0$.\n",
    "\n",
    "```\n",
    "Qlearning(env, Ns, Na, egreedy = 0.1, gamma = 0.9, lr = 0.1, Niter = 100)\n",
    "```\n",
    "* `env`: the index of the golf course (0-3)\n",
    "* `Ns`: the number of discrete states choosen\n",
    "* `Na`: the number of actions\n",
    "* `egreedy`: factor for exploration where random actions are choosen `egreedy`*100 percent of the time\n",
    "* `gamma`: the discount factor\n",
    "* `lr`: the learning rate\n",
    "* `Niter`: the number of iterations to learn\n"
   ]
  },
  {
   "cell_type": "code",
   "execution_count": 5,
   "metadata": {
    "ExecuteTime": {
     "end_time": "2025-04-04T16:42:56.869648Z",
     "start_time": "2025-04-04T16:42:56.862741Z"
    },
    "id": "0qlWC0MS2RR9"
   },
   "outputs": [],
   "source": [
    "def Qlearning(env, Ns, Na, egreedy=0.1, gamma=0.9, lr=0.1, Niter=100):\n",
    "    # Initialize Q-table with zeros\n",
    "    Q = np.zeros((Ns, Na))\n",
    "\n",
    "    # Niter iterations\n",
    "    for _ in range(Niter):\n",
    "        # Initial state (x = 0)\n",
    "        state = 0\n",
    "\n",
    "        while True:\n",
    "            # E-greedy policy: choose action\n",
    "            if np.random.rand() < egreedy:  # Exploration\n",
    "                action = np.random.randint(Na)\n",
    "            else:  # Exploitation\n",
    "                action = np.argmin(Q[state])\n",
    "\n",
    "            # Take action, get new state and cost\n",
    "            new_state, cost = golf_env_step(env, state * 10, action)\n",
    "\n",
    "            # Convert new state to discrete index (state2rep function)\n",
    "            new_state_idx = state2rep(new_state)\n",
    "\n",
    "            # Q-learning update\n",
    "            Q[state, action] += lr * (cost + gamma * np.min(Q[new_state_idx]) - Q[state, action])\n",
    "\n",
    "            # Update the state\n",
    "            state = new_state_idx\n",
    "\n",
    "            # If the ball has reached the hole (cost = 0), break the loop\n",
    "            if cost == 0:\n",
    "                break\n",
    "\n",
    "    return Q"
   ]
  },
  {
   "cell_type": "markdown",
   "metadata": {
    "id": "quG6lJ0grcUs"
   },
   "source": [
    "Run the following code:"
   ]
  },
  {
   "cell_type": "code",
   "execution_count": 6,
   "metadata": {
    "ExecuteTime": {
     "end_time": "2025-04-04T16:44:45.711090Z",
     "start_time": "2025-04-04T16:42:56.889883Z"
    },
    "id": "QSs1QRWtLjRU"
   },
   "outputs": [
    {
     "data": {
      "text/plain": [
       "<matplotlib.legend.Legend at 0x1b4ff3c6bd0>"
      ]
     },
     "execution_count": 6,
     "metadata": {},
     "output_type": "execute_result"
    },
    {
     "data": {
      "image/png": "[encoded data removed]",
      "text/plain": [
       "<Figure size 640x480 with 1 Axes>"
      ]
     },
     "metadata": {},
     "output_type": "display_data"
    }
   ],
   "source": [
    "Q = Qlearning(env = ENV, Ns = 46, Na = 6, egreedy = 0.1, gamma = 0.9, lr = 0.1, Niter = 1_000_000)\n",
    "\n",
    "xs = np.linspace(0.0, 450.0, 100)\n",
    "xs_discrete = [state2rep(x) for x in xs]\n",
    "plt.figure()\n",
    "plt.plot(xs, Q[xs_discrete,:])\n",
    "plt.legend(['0','1','2','3','4','5'])"
   ]
  },
  {
   "cell_type": "markdown",
   "metadata": {
    "id": "plwsQp5QhhGx"
   },
   "source": [
    "**Question 1:** What is the optimal action at the discrete state associated with $x=0$, and the optimal action at the discrete state associated with $x=420$?"
   ]
  },
  {
   "cell_type": "markdown",
   "metadata": {
    "id": "eR8--fV1jLtP"
   },
   "source": [
    "**Answer 1:** By observing the graph (Q-learning), it can be seen that the optimal actions for the two states are:\n",
    "- $x=0$: action 1\n",
    "- $x=420$: action 4."
   ]
  },
  {
   "cell_type": "markdown",
   "metadata": {
    "id": "cbnvxu6aU46h"
   },
   "source": [
    "## Learning with function approximation. ##\n",
    "\n",
    "When the number of states is very large, or the problem is continuous, the previous approach does not scale. In those cases, we need to resort to function approximation to approximate the Q-values. Consider the following parametrization of the Q-function\n",
    "\n",
    "$$Q_\\theta(x,a) = \\theta_a^\\top f(x)$$\n",
    "\n",
    "where: (i) $\\theta_a \\in \\mathbb{R}^2$ are the learnable parameters for each of the actions; and (ii) the features vector is given by\n",
    "\n",
    "$$f(x) = \\bigg[\\frac{x}{450},1\\bigg]^\\top.$$\n",
    "\n",
    "We follow a fitted Q-iteration approach where we first collect data by interacting with the environment, then use the collected data to build targets for the regression problem, and finally solve a regression problem to find the new set of parameters $\\theta_a^\\text{new}$ for each of the actions.\n",
    "\n",
    "In the following activities we will implement each step separately."
   ]
  },
  {
   "cell_type": "markdown",
   "metadata": {
    "id": "_JOhF2j2F9gm"
   },
   "source": [
    "## Activity 3 ##\n",
    "Implement function `x_to_features`, which receives a vector $x$ of size $(N,)$ containing a set of $N$ positions $x$ and returns a matrix with size $(2 \\times N)$ where each column contains the feature associated with each of the $x$ points.\n",
    "\n",
    "`x_to_features(x)`\n",
    "\n",
    "* x: np.array containing a set of $x$ points\n"
   ]
  },
  {
   "cell_type": "code",
   "execution_count": 7,
   "metadata": {
    "ExecuteTime": {
     "end_time": "2025-04-04T16:44:45.751090Z",
     "start_time": "2025-04-04T16:44:45.747439Z"
    },
    "id": "Bv99eCjvnUjD"
   },
   "outputs": [],
   "source": [
    "def x_to_features(x):\n",
    "    return np.vstack([x / 450, np.ones_like(x)])"
   ]
  },
  {
   "cell_type": "code",
   "execution_count": 8,
   "metadata": {
    "ExecuteTime": {
     "end_time": "2025-04-04T16:44:45.784994Z",
     "start_time": "2025-04-04T16:44:45.777461Z"
    }
   },
   "outputs": [
    {
     "name": "stdout",
     "output_type": "stream",
     "text": [
      "[[0.69311111]\n",
      " [1.        ]]\n",
      "(2, 1)\n",
      "[[0.         0.19244444 0.32911111 0.51444444 0.69311111]\n",
      " [1.         1.         1.         1.         1.        ]]\n",
      "(2, 5)\n"
     ]
    }
   ],
   "source": [
    "x_test_1 = np.array([311.9])\n",
    "f_test_1 = x_to_features(x_test_1)\n",
    "print(f_test_1)\n",
    "print(f_test_1.shape)\n",
    "\n",
    "x_test_2 = np.array([0.0, 86.6, 148.1, 231.5, 311.9])\n",
    "f_test_2 = x_to_features(x_test_2)\n",
    "print(f_test_2)\n",
    "print(f_test_2.shape)"
   ]
  },
  {
   "cell_type": "markdown",
   "metadata": {
    "id": "zwNMPvHo4L-d"
   },
   "source": [
    "The following code\n",
    "\n",
    "\n",
    "\n",
    "```\n",
    "x_test_1 = np.array([311.9])\n",
    "f_test_1 = x_to_features(x_test_1)\n",
    "print(f_test_1)\n",
    "print(f_test_1.shape)\n",
    "\n",
    "x_test_2 = np.array([0.0, 86.6, 148.1, 231.5, 311.9])\n",
    "f_test_2 = x_to_features(x_test_2)\n",
    "print(f_test_2)\n",
    "print(f_test_2.shape)\n",
    "```\n",
    "\n",
    "\n",
    "should give the result\n",
    "\n",
    "\n",
    "```\n",
    "[[0.69311111]\n",
    " [1.        ]]\n",
    "(2, 1)\n",
    "[[0.         0.19244444 0.32911111 0.51444444 0.69311111]\n",
    " [1.         1.         1.         1.         1.        ]]\n",
    "(2, 5)\n",
    "```\n",
    "\n",
    "\n",
    "\n"
   ]
  },
  {
   "cell_type": "markdown",
   "metadata": {
    "id": "bwKiL5nmWRzA"
   },
   "source": [
    "## Activity 4 ##\n",
    "Implement function `genTraj`, which receives a matrix $\\theta$ of size $(2 \\times Na)$, where $Na$ is the number of actions, containing a set of parameters. The function should sample a sequence of $(x_t, a_t, c_t, x_{t+1})$ transition tuples by interacting with the MDP. Action selection is performed according to an $\\epsilon$-greedy policy with respect to the Q-function induced by the parameters $\\theta$. The function should return an array with size $(Niter \\times 4)$ where each line corresponds to a single transition $(x_t, a_t, c_t, x_{t+1})$. Assume the initial state of the trajectory is $x=0$.\n",
    "\n",
    "`genTraj(env, theta, Niter = 20, egreedy = 0.1)`\n",
    "\n",
    "* `env`: the index of the golf course (0-3)\n",
    "* theta: coefficients of the approximation of the Q function\n",
    "* Niter: the number of transitions to sample\n",
    "* egreedy - factor for exploration where random actions are choosen `egreedy`*100 percent of the time\n"
   ]
  },
  {
   "cell_type": "code",
   "execution_count": 9,
   "metadata": {
    "ExecuteTime": {
     "end_time": "2025-04-04T16:44:45.838925Z",
     "start_time": "2025-04-04T16:44:45.833460Z"
    },
    "id": "Ngqox1L-AaFq"
   },
   "outputs": [],
   "source": [
    "def genTraj(env, theta, Niter=20, egreedy=0.1):\n",
    "    # Initial state\n",
    "    x = 0\n",
    "    transitions = list()\n",
    "\n",
    "    # Iterate for Niter steps\n",
    "    for _ in range(Niter):\n",
    "        # Calculate Q-values for each action\n",
    "        features = x_to_features(x)\n",
    "        Q_values = np.dot(features.T, theta).flatten()  # Q-values for all actions\n",
    "\n",
    "        # E-greedy policy: Choose the best action or explore randomly\n",
    "        if np.random.rand() < egreedy:\n",
    "            a = np.random.choice(6)  # Exploration\n",
    "        else:\n",
    "            a = np.argmin(Q_values)  # Exploitation\n",
    "\n",
    "        # Get the next state, reward, and terminal condition from the environment\n",
    "        x_next, c = golf_env_step(env, x, a)\n",
    "\n",
    "        # Store the transition (x_t, a_t, c_t, x_{t+1})\n",
    "        transitions.append([x, a, c, x_next])\n",
    "\n",
    "        # Update the state for the next iteration\n",
    "        x = x_next\n",
    "\n",
    "    # Return transitions as a numpy array of shape (Niter, 4)\n",
    "    return np.array(transitions)"
   ]
  },
  {
   "cell_type": "code",
   "execution_count": 10,
   "metadata": {
    "ExecuteTime": {
     "end_time": "2025-04-04T16:44:45.853020Z",
     "start_time": "2025-04-04T16:44:45.847138Z"
    }
   },
   "outputs": [
    {
     "name": "stdout",
     "output_type": "stream",
     "text": [
      "[[  0.           0.           1.          86.61210274]\n",
      " [ 86.61210274   0.           1.         148.15779329]\n",
      " [148.15779329   4.           1.         158.82906467]\n",
      " [158.82906467   0.           1.         233.83829403]\n",
      " [233.83829403   0.           1.         310.67242707]\n",
      " [310.67242707   0.           1.         381.19868819]\n",
      " [381.19868819   0.           1.         450.        ]\n",
      " [450.           0.           1.         331.59316938]]\n",
      "(8, 4)\n"
     ]
    }
   ],
   "source": [
    "np.random.seed(1640)\n",
    "Na = 6\n",
    "theta = np.ones([2, Na])\n",
    "T = genTraj(env = ENV, theta = theta, Niter = 8, egreedy = 0.1)\n",
    "print(T)\n",
    "print(T.shape)"
   ]
  },
  {
   "cell_type": "markdown",
   "metadata": {
    "id": "Kr__u-CZtp45"
   },
   "source": [
    "The following code\n",
    "\n",
    "\n",
    "\n",
    "```\n",
    "np.random.seed(1640)\n",
    "Na = 6\n",
    "theta = np.ones([2, Na])\n",
    "T = genTraj(env = ENV, theta = theta, Niter = 8, egreedy = 0.1)\n",
    "print(T)\n",
    "print(T.shape)\n",
    "```\n",
    "\n",
    "\n",
    "should give the result\n",
    "\n",
    "\n",
    "```\n",
    "[[  0.           0.           1.          86.61210274]\n",
    " [ 86.61210274   0.           1.         148.15779329]\n",
    " [148.15779329   4.           1.         158.82906467]\n",
    " [158.82906467   0.           1.         233.83829403]\n",
    " [233.83829403   0.           1.         310.67242707]\n",
    " [310.67242707   0.           1.         381.19868819]\n",
    " [381.19868819   0.           1.         450.        ]\n",
    " [450.           0.           1.         331.59316938]]\n",
    "(8, 4)\n",
    "```\n",
    "\n",
    "\n",
    "\n"
   ]
  },
  {
   "cell_type": "markdown",
   "metadata": {
    "id": "WjBLeK3DYwBL"
   },
   "source": [
    "## Activity 5 ##\n",
    "We now implement function `updateCoef`, which performs a step of the fitted-Q-iteration algorithm. The function receives a trajectory `T` and set of parameters $\\theta$ and returns the updated parameters $\\theta^\\text{new}$, which correspond to the new parameters after a single learning step of the fitted-Q-iteration algorithm. The function should perform the updates separately for each action $a$. First, the function should select all transitions $(x_t,a_t,c_t, x_{t+1})$ associated with action $a$, i.e, select all transitions $(x_t,a_t,c_t, x_{t+1})$ such that $a_t=a$. Then, we need to calculate the regression targets $y_a$ for each of the transition tuples associated with action $a$ as $y_{a,t} = c_t + \\gamma \\min_a \\{ \\theta_a^\\top f(x_{t+1}) \\}$. Finally, for the transition tuples associated with action $a$, we compute the new set of parameters $\\theta^\\text{new}_a$ by solving the regression problem with inputs $f(x_t)$ and target values $y_a$. The new parameters $\\theta_a^\\text{new}$ can be calculated using the following least-squares solution: $\\theta_a^\\text{new} = (f_a^\\top f_a)^{-1} f_a^\\top y_a$, where $f_a \\in \\mathbb{R}^{n_a, 2}$ is the feature matrix of the inputs $x_t$ associated with action $a$ and $y_a \\in \\mathbb{R}^{n_a}$ is the vector of targets associated with action $a$ ($n_a$ is the number of transitions in `T` associated with action $a$). We then repeat for each of the actions.\n",
    "\n",
    "```\n",
    "updateCoef(T, theta, gamma = 0.9, Na = 6)\n",
    "```\n",
    "\n",
    "* T: a trajectory of transitions\n",
    "* theta: the set of learnable parameters\n",
    "* gamma: discount factor\n",
    "* Na: the number of actions\n",
    "\n",
    "\n"
   ]
  },
  {
   "cell_type": "code",
   "execution_count": 11,
   "metadata": {
    "ExecuteTime": {
     "end_time": "2025-04-04T16:44:45.897440Z",
     "start_time": "2025-04-04T16:44:45.889538Z"
    },
    "id": "jNr80RLT0UZk"
   },
   "outputs": [],
   "source": [
    "def updateCoef(T, theta, gamma=0.9, Na=6):\n",
    "    # Initialize new theta with zeros\n",
    "    theta_new = theta.copy()\n",
    "\n",
    "    # Iterate over each action\n",
    "    for a in range(Na):\n",
    "        # Select transitions where action a was taken\n",
    "        transitions_a = T[T[:, 1] == a]             # Shape (n_a, 4)\n",
    "\n",
    "        # If there are no transitions for this action, skip\n",
    "        if len(transitions_a) == 0:\n",
    "            continue\n",
    "\n",
    "        # Extract x_t, c_t, x_{t+1} for these transitions\n",
    "        x_t = transitions_a[:, 0]                  # Shape (n_a,)\n",
    "        c_t = transitions_a[:, 2]                  # Shape (n_a,)\n",
    "        x_t_plus_1 = transitions_a[:, 3]           # Shape (n_a,)\n",
    "\n",
    "        # Compute features for x_t (for regression inputs)\n",
    "        f_a = x_to_features(x_t).T                 # Shape (nt, 2)\n",
    "\n",
    "        # Compute targets y_{a,t} = c_t + gamma * min_a' Q(x_{t+1}, a')\n",
    "        # Compute Q-values for next states x_{t+1}\n",
    "        features_next = x_to_features(x_t_plus_1)  # Shape (2, n_a)\n",
    "        Q_next = np.dot(theta.T, features_next)    # Shape (Na, n_a)\n",
    "        min_Q_next = np.min(Q_next, axis=0)        # Shape (n_a,)\n",
    "\n",
    "        y_a = c_t + gamma * min_Q_next             # Shape (n_a,)\n",
    "\n",
    "        # Least squares: theta_a = (F.T @ F)^(-1) @ F.T @ y_a\n",
    "        A = np.dot(f_a.T, f_a)                     # Shape (2, 2)\n",
    "        b = np.dot(f_a.T, y_a)                     # shape (2,)\n",
    "        theta_a_new = np.linalg.pinv(A).dot(b)     # Shape (2,)\n",
    "\n",
    "        # Update the parameters for action a\n",
    "        theta_new[:, a] = theta_a_new              # Shape (2, Na)\n",
    "\n",
    "    return theta_new"
   ]
  },
  {
   "cell_type": "code",
   "execution_count": 12,
   "metadata": {
    "ExecuteTime": {
     "end_time": "2025-04-04T16:44:45.934173Z",
     "start_time": "2025-04-04T16:44:45.916095Z"
    }
   },
   "outputs": [
    {
     "name": "stdout",
     "output_type": "stream",
     "text": [
      "[[0.71682535 0.16666667 0.16666667 0.16666667 0.698923   0.16666667]\n",
      " [2.24761608 0.16666667 0.16666667 0.16666667 2.12284039 0.16666667]]\n",
      "(2, 6)\n"
     ]
    }
   ],
   "source": [
    "np.random.seed(1640)\n",
    "theta = np.ones([2,Na]) / Na\n",
    "T = genTraj(env = ENV, theta = theta, Niter = 8, egreedy = 0.1)\n",
    "updated_theta = updateCoef(T, theta, Na)\n",
    "print(updated_theta)\n",
    "print(updated_theta.shape)"
   ]
  },
  {
   "cell_type": "markdown",
   "metadata": {
    "id": "rW3rFw6fNFfl"
   },
   "source": [
    "The following code\n",
    "\n",
    "\n",
    "\n",
    "```\n",
    "np.random.seed(1640)\n",
    "theta = np.ones([2,Na]) / Na\n",
    "T = genTraj(env = ENV, theta = theta, Niter = 8, egreedy = 0.1)\n",
    "updated_theta = updateCoef(T, theta, Na)\n",
    "print(updated_theta)\n",
    "print(updated_theta.shape)\n",
    "```\n",
    "\n",
    "\n",
    "should give the result\n",
    "\n",
    "\n",
    "```\n",
    "[[0.71682535 0.         0.         0.         0.698923   0.        ]\n",
    " [2.24761608 0.         0.         0.         2.12284039 0.        ]]\n",
    "(2, 6)\n",
    "```\n",
    "\n",
    "\n",
    "\n"
   ]
  },
  {
   "cell_type": "markdown",
   "metadata": {
    "id": "avUBpPmMNdei"
   },
   "source": [
    "You can now use the following code below to run multiple steps of the fitted-Q-iteration algorithm."
   ]
  },
  {
   "cell_type": "code",
   "execution_count": 13,
   "metadata": {
    "ExecuteTime": {
     "end_time": "2025-04-04T16:45:02.878591Z",
     "start_time": "2025-04-04T16:44:45.951113Z"
    },
    "id": "uJmqcw7BFN0e"
   },
   "outputs": [
    {
     "name": "stdout",
     "output_type": "stream",
     "text": [
      "(2, 100)\n"
     ]
    },
    {
     "data": {
      "text/plain": [
       "<matplotlib.legend.Legend at 0x1b4ff444050>"
      ]
     },
     "execution_count": 13,
     "metadata": {},
     "output_type": "execute_result"
    },
    {
     "data": {
      "image/png": "[encoded data removed]",
      "text/plain": [
       "<Figure size 640x480 with 1 Axes>"
      ]
     },
     "metadata": {},
     "output_type": "display_data"
    }
   ],
   "source": [
    "Na = 6\n",
    "np.random.seed(1640)\n",
    "theta = np.ones([2,Na]) / Na\n",
    "\n",
    "for ii in np.arange(0, 500):\n",
    "    T = genTraj(env = ENV, theta = theta, Niter = 1000, egreedy = 0.1)\n",
    "    theta = updateCoef(T, theta, gamma = 0.9, Na = 6)\n",
    "    # print(np.sum(T[:,2]))\n",
    "\n",
    "xs = np.linspace(0.0, 450.0, 100)\n",
    "ftoplot = np.concatenate([x_to_features(np.array([x])) for x in xs], axis=1)\n",
    "print(ftoplot.shape)\n",
    "plt.plot(xs, ftoplot.T@theta)\n",
    "plt.legend(['0','1','2','3','4','5'])"
   ]
  },
  {
   "cell_type": "markdown",
   "metadata": {
    "id": "CUDzhFaKN-6r"
   },
   "source": [
    "**Question 2:** According to the fitted-Q-iteration algorithm, what is the optimal action at $x=0$, and the optimal action at $x=420$?"
   ]
  },
  {
   "cell_type": "markdown",
   "metadata": {
    "id": "SJHuv2YrOPf5"
   },
   "source": [
    "**Answer 2:** By observing the graph (fitted-Q-iteration), it can be seen that the optimal actions for the two states are:\n",
    "- $x=0$: action 1\n",
    "- $x=420$: action 4."
   ]
  },
  {
   "cell_type": "markdown",
   "metadata": {
    "id": "2eu-k2I_W7vW"
   },
   "source": [
    "**Question 3:** Can you think of any limitation(s) when applying the discretized Q-learning algorithm to solve the golf problem we considered in this lab? Can you think of any limitation(s) when applying the fitted-Q-learning algorithm with linear function approximation (fixed features) to solve the golf problem we considered in this lab?"
   ]
  },
  {
   "cell_type": "markdown",
   "metadata": {
    "id": "UFi81vWSZBXG"
   },
   "source": [
    "**Answer 3:**\n",
    "#### Limitations when applying the discretized Q-learning:\n",
    "- The state space (distance from the hole) is continuous, and discretizing it into bins can lead to a large number of states if high precision is needed. Too few bins may lose important information (e.g., small differences in distance), while too many bins increase computational cost.\n",
    "- Discretization treats nearby states as entirely different, preventing the algorithm from generalizing across similar states. For example, if the ball is at 143m vs. 144m, discretization might treat them as different states even though the optimal action is likely similar.\n",
    "- Wind is a continuous disturbance, and discretization may fail to capture its impact accurately, leading to suboptimal policies.\n",
    "- Since discretized Q-learning explores state-action pairs independently, it may waste samples on irrelevant states (e.g., overshooting the hole repeatedly).\n",
    "#### Limitations of Fitted Q-Learning with Linear Function Approximation:\n",
    "- Linear approximation assumes that the Q-function is a linear combination of features, which may be too simplistic for the golf problem. If the true Q-function is highly nonlinear (e.g., due to wind effects), linear approximation may fail to capture optimal policies.\n",
    "- Performance heavily relies on hand-designed features (x/450 and a bias term in this case). Poorly chosen features (e.g., not accounting for wind properly) can lead to bad approximations.\n",
    "- If the number of transitions is small, the least-squares regression in fitted Q-learning may overfit, leading to poor generalization.\n",
    "- Fitted Q-learning uses its own estimates for target values `y = c + γ min Q(x', a')`, which can propagate errors if initial estimates are poor. This can lead to divergence or unstable learning, especially with linear approximation.\n",
    "- If the wind changes unpredictably (e.g., switching direction), linear approximation may struggle to adapt because it assumes fixed features."
   ]
  }
 ],
 "metadata": {
  "colab": {
   "provenance": []
  },
  "kernelspec": {
   "display_name": "Python 3 (ipykernel)",
   "language": "python",
   "name": "python3"
  },
  "language_info": {
   "codemirror_mode": {
    "name": "ipython",
    "version": 3
   },
   "file_extension": ".py",
   "mimetype": "text/x-python",
   "name": "python",
   "nbconvert_exporter": "python",
   "pygments_lexer": "ipython3",
   "version": "3.12.7"
  }
 },
 "nbformat": 4,
 "nbformat_minor": 4
}
